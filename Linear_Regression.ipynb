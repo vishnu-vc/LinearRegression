{
  "nbformat": 4,
  "nbformat_minor": 0,
  "metadata": {
    "colab": {
      "name": "Linear Regression.ipynb",
      "provenance": [],
      "authorship_tag": "ABX9TyNrgsWGqVNLi40DiOC4f7cS",
      "include_colab_link": true
    },
    "kernelspec": {
      "name": "python3",
      "display_name": "Python 3"
    },
    "language_info": {
      "name": "python"
    }
  },
  "cells": [
    {
      "cell_type": "markdown",
      "metadata": {
        "id": "view-in-github",
        "colab_type": "text"
      },
      "source": [
        "<a href=\"https://colab.research.google.com/github/vishnu-vc/LinearRegression/blob/main/Linear_Regression.ipynb\" target=\"_parent\"><img src=\"https://colab.research.google.com/assets/colab-badge.svg\" alt=\"Open In Colab\"/></a>"
      ]
    },
    {
      "cell_type": "code",
      "execution_count": null,
      "metadata": {
        "id": "AUAuEQ1yR8qD"
      },
      "outputs": [],
      "source": [
        "import pandas as pd\n",
        "import numpy as np\n",
        "# import matplotlib\n",
        "import matplotlib.pyplot as plt\n",
        "# import seaborn\n",
        "import seaborn as sns\n",
        "%matplotlib inline"
      ]
    },
    {
      "cell_type": "code",
      "source": [
        "sales=pd.read_csv('Train.csv')"
      ],
      "metadata": {
        "id": "FfVwP83rSSo3"
      },
      "execution_count": null,
      "outputs": []
    },
    {
      "cell_type": "code",
      "source": [
        "print(sales.head(n=10))"
      ],
      "metadata": {
        "colab": {
          "base_uri": "https://localhost:8080/"
        },
        "id": "VFYAGtdXSZoF",
        "outputId": "a8af6893-553f-4aa7-8169-2b802ce3dc79"
      },
      "execution_count": null,
      "outputs": [
        {
          "output_type": "stream",
          "name": "stdout",
          "text": [
            "   x  y\n",
            "0  1  1\n",
            "1  2  3\n",
            "2  3  4\n",
            "3  4  8\n"
          ]
        }
      ]
    },
    {
      "cell_type": "code",
      "source": [
        "bplot= sns.scatterplot('x','y',data=sales)\n",
        "bplot.axes.set_title(\"x vs y: Scatter Plot\",\n",
        "                    fontsize=16)\n",
        "bplot.set_ylabel(\"sales in thousand\", \n",
        "                fontsize=16)\n",
        "bplot.set_xlabel(\"week\", \n",
        "                fontsize=16)"
      ],
      "metadata": {
        "colab": {
          "base_uri": "https://localhost:8080/",
          "height": 374
        },
        "id": "7c97osCmSxy1",
        "outputId": "cc6731cd-cf4b-4242-d5d8-5613b07f5b2a"
      },
      "execution_count": null,
      "outputs": [
        {
          "output_type": "stream",
          "name": "stderr",
          "text": [
            "/usr/local/lib/python3.7/dist-packages/seaborn/_decorators.py:43: FutureWarning: Pass the following variables as keyword args: x, y. From version 0.12, the only valid positional argument will be `data`, and passing other arguments without an explicit keyword will result in an error or misinterpretation.\n",
            "  FutureWarning\n"
          ]
        },
        {
          "output_type": "execute_result",
          "data": {
            "text/plain": [
              "Text(0.5, 0, 'week')"
            ]
          },
          "metadata": {},
          "execution_count": 4
        },
        {
          "output_type": "display_data",
          "data": {
            "image/png": "[encoded data removed]",
            "text/plain": [
              "<Figure size 432x288 with 1 Axes>"
            ]
          },
          "metadata": {
            "needs_background": "light"
          }
        }
      ]
    },
    {
      "cell_type": "code",
      "source": [
        "X = sales.x.values\n",
        "Y = sales.y.values"
      ],
      "metadata": {
        "id": "6TxGR3T4S5ZG"
      },
      "execution_count": null,
      "outputs": []
    },
    {
      "cell_type": "code",
      "source": [
        "X_mat=np.vstack((np.ones(len(X)), X)).T"
      ],
      "metadata": {
        "id": "CdG5CWljTzDH"
      },
      "execution_count": null,
      "outputs": []
    },
    {
      "cell_type": "code",
      "source": [
        "X_mat[0:5,]"
      ],
      "metadata": {
        "colab": {
          "base_uri": "https://localhost:8080/"
        },
        "id": "8DsQba8gT8oN",
        "outputId": "cdb7d1d7-70b2-44a7-8639-111509209951"
      },
      "execution_count": null,
      "outputs": [
        {
          "output_type": "execute_result",
          "data": {
            "text/plain": [
              "array([[1., 1.],\n",
              "       [1., 2.],\n",
              "       [1., 3.],\n",
              "       [1., 4.]])"
            ]
          },
          "metadata": {},
          "execution_count": 7
        }
      ]
    },
    {
      "cell_type": "code",
      "source": [
        "beta_cap = np.linalg.inv(X_mat.T.dot(X_mat)).dot(X_mat.T).dot(Y)"
      ],
      "metadata": {
        "id": "lpQZrf7tVoev"
      },
      "execution_count": null,
      "outputs": []
    },
    {
      "cell_type": "code",
      "source": [
        "print(beta_cap)"
      ],
      "metadata": {
        "colab": {
          "base_uri": "https://localhost:8080/"
        },
        "id": "LbwU7bDZWB-e",
        "outputId": "a05170ff-aba8-4692-b98e-b2b9b1032004"
      },
      "execution_count": null,
      "outputs": [
        {
          "output_type": "stream",
          "name": "stdout",
          "text": [
            "[-1.5  2.2]\n"
          ]
        }
      ]
    },
    {
      "cell_type": "code",
      "source": [
        "print(\"7th month sale :\",beta_cap[0]+beta_cap[1]*7)"
      ],
      "metadata": {
        "colab": {
          "base_uri": "https://localhost:8080/"
        },
        "id": "OpKZx-smAeHe",
        "outputId": "d5aea33c-609a-47a7-cb52-5fb80331158a"
      },
      "execution_count": null,
      "outputs": [
        {
          "output_type": "stream",
          "name": "stdout",
          "text": [
            "7th month sale : 13.900000000000004\n"
          ]
        }
      ]
    },
    {
      "cell_type": "code",
      "source": [
        "print(\"9th month sale :\",beta_cap[0]+beta_cap[1]*9)"
      ],
      "metadata": {
        "id": "owSHnzCuByau",
        "outputId": "ecb59f16-c52d-492b-93ae-377e5a0ac265",
        "colab": {
          "base_uri": "https://localhost:8080/"
        }
      },
      "execution_count": null,
      "outputs": [
        {
          "output_type": "stream",
          "name": "stdout",
          "text": [
            "9th month sale : 18.300000000000004\n"
          ]
        }
      ]
    },
    {
      "cell_type": "code",
      "source": [
        "y_cap = X_mat.dot(beta_cap)"
      ],
      "metadata": {
        "id": "0LrTnNdmWIsu"
      },
      "execution_count": null,
      "outputs": []
    },
    {
      "cell_type": "code",
      "source": [
        "plt.scatter(X, Y)\n",
        "plt.plot(X, y_cap, color='red')"
      ],
      "metadata": {
        "colab": {
          "base_uri": "https://localhost:8080/",
          "height": 282
        },
        "id": "l4Wgs2leWVmI",
        "outputId": "91ff9263-aef3-4dd7-a10b-970b1622780a"
      },
      "execution_count": null,
      "outputs": [
        {
          "output_type": "execute_result",
          "data": {
            "text/plain": [
              "[<matplotlib.lines.Line2D at 0x7f86a5ff4610>]"
            ]
          },
          "metadata": {},
          "execution_count": 11
        },
        {
          "output_type": "display_data",
          "data": {
            "image/png": "[encoded data removed]",
            "text/plain": [
              "<Figure size 432x288 with 1 Axes>"
            ]
          },
          "metadata": {
            "needs_background": "light"
          }
        }
      ]
    }
  ]
}